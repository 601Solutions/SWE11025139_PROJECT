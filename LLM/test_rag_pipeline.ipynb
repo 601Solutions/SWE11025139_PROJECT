{
 "cells": [
  {
   "cell_type": "markdown",
   "id": "f0346b60",
   "metadata": {},
   "source": [
    "# LLM RAG 파이프라인 테스트\n",
    "\n",
    "이 노트북에서는 구현된 RAG (Retrieval-Augmented Generation) 파이프라인의 각 컴포넌트를 테스트하고 전체 시스템을 평가합니다.\n",
    "\n",
    "## 목차\n",
    "1. 컴포넌트 임포트\n",
    "2. 환경 설정\n",
    "3. LLM 초기화\n",
    "4. 임베딩 생성 테스트\n",
    "5. 벡터 스토어 작업 테스트\n",
    "6. RAG 파이프라인 테스트\n",
    "7. 대화형 쿼리 테스트"
   ]
  },
  {
   "cell_type": "markdown",
   "id": "a40b480f",
   "metadata": {},
   "source": [
    "## 1. 컴포넌트 임포트\n",
    "필요한 모든 모듈을 임포트합니다."
   ]
  },
  {
   "cell_type": "code",
   "execution_count": null,
   "id": "2ebda4a2",
   "metadata": {},
   "outputs": [],
   "source": [
    "# 시스템 경로 설정\n",
    "import sys\n",
    "import os\n",
    "\n",
    "# 프로젝트 루트 디렉토리를 파이썬 경로에 추가\n",
    "project_root = os.path.abspath(os.path.join(os.getcwd()))\n",
    "if project_root not in sys.path:\n",
    "    sys.path.append(project_root)\n",
    "\n",
    "# RAG 컴포넌트 임포트\n",
    "from llm_rag.config import get_config\n",
    "from llm_rag.rag_pipeline import get_rag_chain\n",
    "from llm_rag.embeddings.embedder import get_embeddings_model\n",
    "from llm_rag.embeddings.vectorstore_chroma import get_vector_store\n",
    "from llm_rag.llm.llm_loader import get_llm\n",
    "from llm_rag.llm.prompt_templates import QA_CHAIN_PROMPT"
   ]
  },
  {
   "cell_type": "markdown",
   "id": "00870a08",
   "metadata": {},
   "source": [
    "## 2. 환경 설정\n",
    "설정 파일에서 필요한 매개변수를 로드하고 환경을 초기화합니다."
   ]
  },
  {
   "cell_type": "code",
   "execution_count": null,
   "id": "d323552a",
   "metadata": {},
   "outputs": [],
   "source": [
    "# 설정 로드\n",
    "config = get_config()\n",
    "print(\"설정 로드 완료:\", config)"
   ]
  },
  {
   "cell_type": "markdown",
   "id": "bf071789",
   "metadata": {},
   "source": [
    "## 3. LLM 초기화\n",
    "LLM을 초기화하고 기본 응답 생성을 테스트합니다."
   ]
  },
  {
   "cell_type": "code",
   "execution_count": null,
   "id": "4d1e4fe0",
   "metadata": {},
   "outputs": [],
   "source": [
    "# LLM 초기화\n",
    "llm = get_llm()\n",
    "\n",
    "# 간단한 테스트 쿼리\n",
    "test_query = \"Hello! Can you help me understand what you can do?\"\n",
    "print(\"테스트 쿼리:\", test_query)\n",
    "response = llm.predict(test_query)\n",
    "print(\"\\nLLM 응답:\", response)"
   ]
  },
  {
   "cell_type": "markdown",
   "id": "4d5641c2",
   "metadata": {},
   "source": [
    "## 4. 임베딩 생성 테스트\n",
    "텍스트 샘플에 대한 임베딩을 생성하고 시각화합니다."
   ]
  },
  {
   "cell_type": "code",
   "execution_count": null,
   "id": "3fae9bcd",
   "metadata": {},
   "outputs": [],
   "source": [
    "# 임베딩 모델 초기화\n",
    "embedding_model = get_embeddings_model()\n",
    "\n",
    "# 테스트 텍스트\n",
    "test_texts = [\n",
    "    \"이 제품은 동물용 의약품입니다.\",\n",
    "    \"반려동물의 건강을 위한 영양제입니다.\",\n",
    "    \"처방이 필요한 전문 의약품입니다.\"\n",
    "]\n",
    "\n",
    "# 임베딩 생성\n",
    "embeddings = embedding_model.embed_documents(test_texts)\n",
    "\n",
    "print(f\"생성된 임베딩 수: {len(embeddings)}\")\n",
    "print(f\"임베딩 차원: {len(embeddings[0])}\")\n",
    "\n",
    "# 임베딩 시각화를 위한 차원 축소 (선택사항)\n",
    "from sklearn.manifold import TSNE\n",
    "import numpy as np\n",
    "import matplotlib.pyplot as plt\n",
    "\n",
    "# TSNE를 사용한 2D 시각화\n",
    "tsne = TSNE(n_components=2, random_state=42)\n",
    "embeddings_2d = tsne.fit_transform(embeddings)\n",
    "\n",
    "plt.figure(figsize=(10, 6))\n",
    "plt.scatter(embeddings_2d[:, 0], embeddings_2d[:, 1])\n",
    "for i, text in enumerate(test_texts):\n",
    "    plt.annotate(text, (embeddings_2d[i, 0], embeddings_2d[i, 1]))\n",
    "plt.title(\"텍스트 임베딩 시각화\")\n",
    "plt.show()"
   ]
  },
  {
   "cell_type": "markdown",
   "id": "267fe662",
   "metadata": {},
   "source": [
    "## 5. 벡터 스토어 작업 테스트\n",
    "ChromaDB를 사용하여 임베딩을 저장하고 검색합니다."
   ]
  },
  {
   "cell_type": "code",
   "execution_count": null,
   "id": "8822cdb9",
   "metadata": {},
   "outputs": [],
   "source": [
    "# 벡터 스토어 초기화\n",
    "vector_store = get_vector_store()\n",
    "\n",
    "# 테스트 데이터 추가\n",
    "test_texts = [\n",
    "    \"강아지용 영양제로, 관절 건강에 도움을 줍니다.\",\n",
    "    \"고양이용 항생제로, 수의사 처방이 필요합니다.\",\n",
    "    \"반려동물용 구충제로, 6개월마다 정기적인 투여가 권장됩니다.\"\n",
    "]\n",
    "\n",
    "# 벡터 스토어에 데이터 추가\n",
    "vector_store.add_texts(test_texts)\n",
    "\n",
    "# 유사도 검색 테스트\n",
    "query = \"강아지 영양제 추천\"\n",
    "search_results = vector_store.similarity_search(query, k=2)\n",
    "\n",
    "print(\"검색 쿼리:\", query)\n",
    "print(\"\\n검색 결과:\")\n",
    "for i, doc in enumerate(search_results, 1):\n",
    "    print(f\"\\n{i}. 문서 내용: {doc.page_content}\")\n",
    "    print(f\"   유사도 점수: {doc.metadata.get('score', 'N/A')}\")"
   ]
  },
  {
   "cell_type": "markdown",
   "id": "ff20a4be",
   "metadata": {},
   "source": [
    "## 6. RAG 파이프라인 테스트\n",
    "전체 RAG 파이프라인을 테스트합니다."
   ]
  },
  {
   "cell_type": "code",
   "execution_count": null,
   "id": "1d833d2a",
   "metadata": {},
   "outputs": [],
   "source": [
    "# RAG 체인 초기화\n",
    "rag_chain = get_rag_chain()\n",
    "\n",
    "# 테스트 쿼리\n",
    "test_queries = [\n",
    "    \"강아지 관절 건강에 좋은 제품이 있나요?\",\n",
    "    \"고양이 항생제는 어떻게 사용해야 하나요?\",\n",
    "    \"반려동물 구충제 사용 주기는 어떻게 되나요?\"\n",
    "]\n",
    "\n",
    "print(\"RAG 파이프라인 테스트 결과:\")\n",
    "print(\"=\" * 50)\n",
    "\n",
    "for query in test_queries:\n",
    "    print(f\"\\n질문: {query}\")\n",
    "    response = rag_chain.invoke(query)\n",
    "    print(f\"응답: {response}\")"
   ]
  },
  {
   "cell_type": "markdown",
   "id": "c7a47791",
   "metadata": {},
   "source": [
    "## 7. 대화형 쿼리 테스트\n",
    "사용자 입력을 받아 실시간으로 RAG 파이프라인을 테스트합니다."
   ]
  },
  {
   "cell_type": "code",
   "execution_count": null,
   "id": "4a44dd22",
   "metadata": {},
   "outputs": [],
   "source": [
    "def interactive_qa():\n",
    "    print(\"대화형 Q&A 시스템을 시작합니다.\")\n",
    "    print(\"종료하려면 'quit' 또는 'exit'를 입력하세요.\\n\")\n",
    "    \n",
    "    while True:\n",
    "        query = input(\"\\n질문을 입력하세요: \")\n",
    "        if query.lower() in ['quit', 'exit']:\n",
    "            print(\"\\n대화를 종료합니다.\")\n",
    "            break\n",
    "            \n",
    "        response = rag_chain.invoke(query)\n",
    "        print(f\"\\n응답: {response}\")\n",
    "\n",
    "# 대화형 테스트 실행\n",
    "interactive_qa()"
   ]
  }
 ],
 "metadata": {
  "language_info": {
   "name": "python"
  }
 },
 "nbformat": 4,
 "nbformat_minor": 5
}
